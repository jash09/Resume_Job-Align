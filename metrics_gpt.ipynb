{
 "cells": [
  {
   "cell_type": "code",
   "execution_count": 82,
   "metadata": {},
   "outputs": [
    {
     "name": "stderr",
     "output_type": "stream",
     "text": [
      "[nltk_data] Downloading package stopwords to\n",
      "[nltk_data]     /Users/parthvinm/nltk_data...\n",
      "[nltk_data]   Package stopwords is already up-to-date!\n",
      "[nltk_data] Downloading package punkt to /Users/parthvinm/nltk_data...\n",
      "[nltk_data]   Package punkt is already up-to-date!\n"
     ]
    },
    {
     "data": {
      "text/plain": [
       "True"
      ]
     },
     "execution_count": 82,
     "metadata": {},
     "output_type": "execute_result"
    }
   ],
   "source": [
    "import pandas as pd\n",
    "import json\n",
    "import re\n",
    "from sklearn.metrics.pairwise import cosine_similarity\n",
    "from sklearn.feature_extraction.text import TfidfVectorizer\n",
    "from sklearn.metrics.pairwise import cosine_similarity as sklearn_cosine_similarity\n",
    "from sklearn.metrics import pairwise\n",
    "import nltk\n",
    "from nltk.corpus import stopwords\n",
    "from nltk.stem import PorterStemmer\n",
    "from nltk.tokenize import word_tokenize\n",
    "import openai\n",
    "import numpy as np\n",
    "\n",
    "# Set your OpenAI API key\n",
    "openai.api_key = \"sk-proj-Cw1drZV2K9ag9wXRLR2pT3BlbkFJZ9SiI26TtRgTVc9dT1UE\" \n",
    "\n",
    "# Download required NLTK data\n",
    "nltk.download('stopwords')\n",
    "nltk.download('punkt')"
   ]
  },
  {
   "cell_type": "code",
   "execution_count": 83,
   "metadata": {},
   "outputs": [],
   "source": [
    "# Define text normalization function\n",
    "def normalize_text(text: str) -> list:\n",
    "    \"\"\"Normalize the input text.\"\"\"\n",
    "    words = word_tokenize(text)\n",
    "    words = [re.sub('[^a-zA-Z]', '', word).lower() for word in words]\n",
    "    words = [word for word in words if word and word not in stopwords.words('english')]\n",
    "    stemmer = PorterStemmer()\n",
    "    words = [stemmer.stem(word) for word in words]\n",
    "    \n",
    "    if not words:\n",
    "        return [\"default\", \"content\"]  # Default text to avoid empty vocabulary issues\n",
    "    \n",
    "    return words\n"
   ]
  },
  {
   "cell_type": "code",
   "execution_count": 84,
   "metadata": {},
   "outputs": [],
   "source": [
    "# Define cosine similarity function for text documents\n",
    "def cosine_similarity_text(document1: str, document2: str) -> float:\n",
    "    \"\"\"Calculate the cosine similarity between two text documents.\"\"\"\n",
    "    vectorizer = TfidfVectorizer()\n",
    "    vectors = vectorizer.fit_transform([document1, document2])\n",
    "    cosine_similarity_score = sklearn_cosine_similarity(vectors[0], vectors[1])\n",
    "    return cosine_similarity_score.item()\n"
   ]
  },
  {
   "cell_type": "code",
   "execution_count": 85,
   "metadata": {},
   "outputs": [],
   "source": [
    "# # Truncate text to a specified token limit\n",
    "# def truncate_text(text: str, token_limit: int = 512) -> str:\n",
    "#     \"\"\"Truncate text to a specified number of tokens.\"\"\"\n",
    "#     if isinstance(text, str):\n",
    "#         words = text.split()\n",
    "#         return \" \".join(words[:token_limit])\n",
    "#     return \"\""
   ]
  },
  {
   "cell_type": "code",
   "execution_count": 86,
   "metadata": {},
   "outputs": [],
   "source": [
    "# Function to split text into chunks\n",
    "def split_into_chunks(text, max_tokens=512):\n",
    "    words = text.split()\n",
    "    for i in range(0, len(words), max_tokens):\n",
    "        yield \" \".join(words[i:i + max_tokens])\n",
    "\n",
    "# Define cosine similarity function using OpenAI embeddings with chunking\n",
    "def cosine_similarity_openai(document1: str, document2: str) -> float:\n",
    "    \"\"\"Calculate the cosine similarity between two documents using OpenAI embeddings with chunking.\"\"\"\n",
    "    # Split documents into chunks\n",
    "    chunks1 = list(split_into_chunks(document1))\n",
    "    chunks2 = list(split_into_chunks(document2))\n",
    "    \n",
    "    # Generate embeddings for all chunks\n",
    "    all_chunks = chunks1 + chunks2\n",
    "    response = openai.Embedding.create(\n",
    "        input=all_chunks, \n",
    "        model=\"text-embedding-ada-002\"\n",
    "    )\n",
    "    embeddings = [data['embedding'] for data in response['data']]\n",
    "    \n",
    "    # Separate embeddings for document1 and document2\n",
    "    embeddings1 = np.array(embeddings[:len(chunks1)])\n",
    "    embeddings2 = np.array(embeddings[len(chunks1):])\n",
    "    \n",
    "    # Average the embeddings\n",
    "    average_embedding1 = np.mean(embeddings1, axis=0)\n",
    "    average_embedding2 = np.mean(embeddings2, axis=0)\n",
    "    \n",
    "    # Calculate cosine similarity between the averaged embeddings\n",
    "    cosine_similarity_score = sklearn_cosine_similarity(\n",
    "        average_embedding1.reshape(1, -1), \n",
    "        average_embedding2.reshape(1, -1)\n",
    "    )\n",
    "    return cosine_similarity_score.item()"
   ]
  },
  {
   "cell_type": "code",
   "execution_count": 87,
   "metadata": {},
   "outputs": [],
   "source": [
    "# Function to extract and process fields\n",
    "def extract_and_process_field(json_data, field_name):\n",
    "    try:\n",
    "        field = json_data.get(field_name, \"\")\n",
    "        if isinstance(field, list):\n",
    "            processed_items = []\n",
    "            for item in field:\n",
    "                if isinstance(item, dict):\n",
    "                    # Convert each dictionary to a string representation\n",
    "                    processed_items.append(\" \".join(f\"{k}: {v}\" for k, v in item.items() if isinstance(v, str)))\n",
    "                else:\n",
    "                    processed_items.append(str(item))\n",
    "            field = \" \".join(processed_items)\n",
    "        return field\n",
    "    except (json.JSONDecodeError, AttributeError):\n",
    "        return \"\""
   ]
  },
  {
   "cell_type": "code",
   "execution_count": 88,
   "metadata": {},
   "outputs": [],
   "source": [
    "# Function to extract and concatenate all text from a resume\n",
    "def extract_full_resume_text(json_data):\n",
    "    try:\n",
    "        sections = []\n",
    "        for key, value in json_data.items():\n",
    "            if isinstance(value, list):\n",
    "                for item in value:\n",
    "                    if isinstance(item, dict):\n",
    "                        sections.append(\" \".join(f\"{k}: {v}\" for k, v in item.items() if isinstance(v, str)))\n",
    "                    else:\n",
    "                        sections.append(str(item))\n",
    "            elif isinstance(value, dict):\n",
    "                sections.append(\" \".join(f\"{k}: {v}\" for k, v in value.items() if isinstance(v, str)))\n",
    "            else:\n",
    "                sections.append(str(value))\n",
    "        return \" \".join(sections)\n",
    "    except (json.JSONDecodeError, AttributeError):\n",
    "        return \"\""
   ]
  },
  {
   "cell_type": "code",
   "execution_count": 89,
   "metadata": {},
   "outputs": [],
   "source": [
    "# Function to extract and concatenate all text from a JSON\n",
    "def extract_full_text(json_data):\n",
    "    try:\n",
    "        sections = []\n",
    "        for key, value in json_data.items():\n",
    "            if isinstance(value, list):\n",
    "                for item in value:\n",
    "                    if isinstance(item, dict):\n",
    "                        sections.append(\" \".join(f\"{k}: {v}\" for k, v in item.items() if isinstance(v, str)))\n",
    "                    else:\n",
    "                        sections.append(str(item))\n",
    "            elif isinstance(value, dict):\n",
    "                sections.append(\" \".join(f\"{k}: {v}\" for k, v in value.items() if isinstance(v, str)))\n",
    "            else:\n",
    "                sections.append(str(value))\n",
    "        return \" \".join(sections)\n",
    "    except (json.JSONDecodeError, AttributeError):\n",
    "        return \"\""
   ]
  },
  {
   "cell_type": "code",
   "execution_count": 90,
   "metadata": {},
   "outputs": [],
   "source": [
    "# Process each row of the dataframe\n",
    "def process_resume_row(row, threshold=0.3):\n",
    "    if pd.isna(row['new_resume']):\n",
    "        return pd.Series([0.0, 0.0, 0.0, 0.0, 0.0])  # Assign 0 similarity for empty new_resume\n",
    "    try:\n",
    "        # Load JSON objects\n",
    "        resume_json = json.loads(row['resume_json'])\n",
    "        new_resume_json = json.loads(row['new_resume'])\n",
    "        job_json = json.loads(row['job_json'])\n",
    "\n",
    "        # Extract and process work experience and projects\n",
    "        work_ex_resume = extract_and_process_field(resume_json, 'work_experience')\n",
    "        projects_resume = extract_and_process_field(resume_json, 'projects')\n",
    "        work_ex_new_resume = extract_and_process_field(new_resume_json, 'work_experience')\n",
    "        projects_new_resume = extract_and_process_field(new_resume_json, 'projects')\n",
    "\n",
    "        # Extract and process the full texts\n",
    "        full_resume_text = extract_full_text(resume_json)\n",
    "        full_new_resume_text = extract_full_text(new_resume_json)\n",
    "        full_job_text = extract_full_text(job_json)\n",
    "\n",
    "        # Normalize text\n",
    "        work_ex_resume_normalized = normalize_text(work_ex_resume)\n",
    "        projects_resume_normalized = normalize_text(projects_resume)\n",
    "        work_ex_new_resume_normalized = normalize_text(work_ex_new_resume)\n",
    "        projects_new_resume_normalized = normalize_text(projects_new_resume)\n",
    "        full_resume_normalized = normalize_text(full_resume_text)\n",
    "        full_new_resume_normalized = normalize_text(full_new_resume_text)\n",
    "        full_job_normalized = normalize_text(full_job_text)\n",
    "\n",
    "        # Convert normalized lists back to strings\n",
    "        work_ex_resume_normalized = \" \".join(work_ex_resume_normalized)\n",
    "        projects_resume_normalized = \" \".join(projects_resume_normalized)\n",
    "        work_ex_new_resume_normalized = \" \".join(work_ex_new_resume_normalized)\n",
    "        projects_new_resume_normalized = \" \".join(projects_new_resume_normalized)\n",
    "        full_resume_normalized = \" \".join(full_resume_normalized)\n",
    "        full_new_resume_normalized = \" \".join(full_new_resume_normalized)\n",
    "        full_job_normalized = \" \".join(full_job_normalized)\n",
    "\n",
    "        # Ensure non-empty normalized text for TF-IDF similarity calculation\n",
    "        if not work_ex_resume_normalized.strip() or not work_ex_new_resume_normalized.strip():\n",
    "            return pd.Series([0.0, 0.0, 0.0, 0.0, 0.0])\n",
    "        if not projects_resume_normalized.strip() or not projects_new_resume_normalized.strip():\n",
    "            return pd.Series([0.0, 0.0, 0.0, 0.0, 0.0])\n",
    "\n",
    "        # Calculate cosine similarities for text\n",
    "        work_ex_score = cosine_similarity_text(work_ex_resume_normalized, work_ex_new_resume_normalized)\n",
    "        projects_score = cosine_similarity_text(projects_resume_normalized, projects_new_resume_normalized)\n",
    "        full_resume_score = cosine_similarity_text(full_resume_normalized, full_new_resume_normalized)\n",
    "\n",
    "        # Apply threshold and calculate OpenAI-based cosine similarities for job match\n",
    "        if work_ex_score < threshold or projects_score < threshold:\n",
    "            resume_job_score = 0.0\n",
    "            new_resume_job_score = 0.0\n",
    "        else:\n",
    "            resume_job_score = cosine_similarity_openai(full_resume_normalized, full_job_normalized)\n",
    "            new_resume_job_score = cosine_similarity_openai(full_new_resume_normalized, full_job_normalized)\n",
    "\n",
    "        # Round similarity scores to 2 decimal places\n",
    "        return pd.Series([\n",
    "            round(work_ex_score, 2), \n",
    "            round(projects_score, 2), \n",
    "            round(full_resume_score, 2), \n",
    "            round(resume_job_score, 2), \n",
    "            round(new_resume_job_score, 2)\n",
    "        ])\n",
    "\n",
    "    except json.JSONDecodeError:\n",
    "        # Handle JSON decoding errors\n",
    "        return pd.Series([0.0, 0.0, 0.0, 0.0, 0.0])\n"
   ]
  },
  {
   "cell_type": "code",
   "execution_count": 91,
   "metadata": {},
   "outputs": [
    {
     "name": "stdout",
     "output_type": "stream",
     "text": [
      "Average Improvement Percentage: 0.54%\n"
     ]
    }
   ],
   "source": [
    "# Example usage with a DataFrame 'df_gpt'\n",
    "df = pd.read_csv('new_resumes.csv')  # Assuming you load your DataFrame from a CSV file\n",
    "\n",
    "# Apply the function to each row\n",
    "df[['work_ex_similarity', 'projects_similarity', 'full_resume_similarity', 'resume_job_similarity', 'new_resume_job_similarity']] = df.apply(process_resume_row, axis=1)\n",
    "\n",
    "# Calculate improvement percentage, handle division by zero and negative values\n",
    "df['improvement_percentage'] = df.apply(\n",
    "    lambda row: max(((row['new_resume_job_similarity'] - row['resume_job_similarity']) / row['resume_job_similarity']) * 100, 0) if row['resume_job_similarity'] else 0, axis=1\n",
    ")\n",
    "\n",
    "# Print the average improvement percentage\n",
    "avg_improvement_percentage = df['improvement_percentage'].mean()\n",
    "print(f\"Average Improvement Percentage: {avg_improvement_percentage:.2f}%\")\n",
    "\n",
    "# Save the DataFrame to a new CSV file\n",
    "df.to_csv('new_resumes_wsimgpt.csv', index=False)"
   ]
  },
  {
   "cell_type": "code",
   "execution_count": 92,
   "metadata": {},
   "outputs": [
    {
     "name": "stdout",
     "output_type": "stream",
     "text": [
      "Average Improvement Percentage: 2.23%\n"
     ]
    }
   ],
   "source": [
    "# Example usage with a DataFrame 'df_gpt'\n",
    "df_gpt = pd.read_csv('new_resumes_gpt.csv')  # Assuming you load your DataFrame from a CSV file\n",
    "\n",
    "# Apply the function to each row\n",
    "df_gpt[['work_ex_similarity', 'projects_similarity', 'full_resume_similarity', 'resume_job_similarity', 'new_resume_job_similarity']] = df_gpt.apply(process_resume_row, axis=1, threshold=0.0)\n",
    "\n",
    "# Calculate improvement percentage, handle division by zero and negative values\n",
    "df_gpt['improvement_percentage'] = df_gpt.apply(\n",
    "    lambda row: max(((row['new_resume_job_similarity'] - row['resume_job_similarity']) / row['resume_job_similarity']) * 100, 0) if row['resume_job_similarity'] else 0, axis=1\n",
    ")\n",
    "\n",
    "# Print the average improvement percentage\n",
    "avg_improvement_percentage = df_gpt['improvement_percentage'].mean()\n",
    "print(f\"Average Improvement Percentage: {avg_improvement_percentage:.2f}%\")\n",
    "\n",
    "# Save the DataFrame to a new CSV file\n",
    "df_gpt.to_csv('new_resumes_gpt_wsimgpt.csv', index=False)"
   ]
  }
 ],
 "metadata": {
  "kernelspec": {
   "display_name": "nlp_project",
   "language": "python",
   "name": "python3"
  },
  "language_info": {
   "codemirror_mode": {
    "name": "ipython",
    "version": 3
   },
   "file_extension": ".py",
   "mimetype": "text/x-python",
   "name": "python",
   "nbconvert_exporter": "python",
   "pygments_lexer": "ipython3",
   "version": "3.12.3"
  }
 },
 "nbformat": 4,
 "nbformat_minor": 2
}
