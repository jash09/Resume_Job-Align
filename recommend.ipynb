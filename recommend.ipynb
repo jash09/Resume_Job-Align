{
 "cells": [
  {
   "cell_type": "code",
   "execution_count": 2,
   "metadata": {},
   "outputs": [
    {
     "name": "stdout",
     "output_type": "stream",
     "text": [
      "I am well, thank you. I am a virtual assistant, so I am not a person and do not have feelings. But I am programmed to be helpful and informative. How can I assist you today?\n"
     ]
    }
   ],
   "source": [
    "import google.generativeai as genai\n",
    "import os\n",
    "\n",
    "genai.configure(api_key=os.environ['API_KEY'])\n",
    "\n",
    "model = genai.GenerativeModel('gemini-pro')\n",
    "response = model.generate_content('Hi How are you doing')\n",
    "\n",
    "print(response.text)"
   ]
  },
  {
   "cell_type": "code",
   "execution_count": 3,
   "metadata": {},
   "outputs": [],
   "source": [
    "input_prompt=\"\"\"\n",
    "Hey Act Like a skilled or very experience ATS(Application Tracking System)\n",
    "with a deep understanding of tech field,software engineering,data science ,data analyst\n",
    "and big data engineer. Your task is to evaluate the resume based on the given job description.\n",
    "You must consider the job market is very competitive and you should provide \n",
    "best assistance for improving thr resumes. Assign the percentage Matching based \n",
    "on Jd and\n",
    "the missing keywords with high accuracy\n",
    "resume:{text}\n",
    "description:{jd}\n",
    "\n",
    "I want the response in one single string having the structure\n",
    "{{\"JD Match\":\"%\",\"MissingKeywords:[]\",\"Profile Summary\":\"\"}}\n",
    "\"\"\""
   ]
  },
  {
   "cell_type": "code",
   "execution_count": 8,
   "metadata": {},
   "outputs": [],
   "source": [
    "import PyPDF2"
   ]
  },
  {
   "cell_type": "code",
   "execution_count": 9,
   "metadata": {},
   "outputs": [],
   "source": [
    "def input_pdf_setup(file_path):\n",
    "    text = ''\n",
    "    if file_path is not None:\n",
    "        with open(file_path, 'rb') as file:\n",
    "            reader = PyPDF2.PdfReader(file)\n",
    "            for page in reader.pages:\n",
    "                text += page.extractText()\n",
    "    return text"
   ]
  },
  {
   "cell_type": "code",
   "execution_count": 5,
   "metadata": {},
   "outputs": [],
   "source": [
    "\n",
    "def get_gemini_repsonse(input):\n",
    "    model=genai.GenerativeModel('gemini-pro')\n",
    "    response=model.generate_content(input)\n",
    "    return response.text"
   ]
  },
  {
   "cell_type": "code",
   "execution_count": 15,
   "metadata": {},
   "outputs": [],
   "source": [
    "jd = \"\"\"\n",
    "About the job\n",
    "Company Summary\n",
    "\n",
    "DISH, an EchoStar Company, has been reimagining the future of connectivity for more than 40 years. Our business reach spans satellite television service, live-streaming and on-demand programming, smart home installation services, mobile plans and products, and now we are building America’s First Smart Network™.\n",
    "\n",
    "Today, our brands include EchoStar, Hughes, DISH TV, Sling TV, Boost Infinite, Boost Mobile, DISH Wireless, OnTech and GenMobile.\n",
    "\n",
    "Department Summary\n",
    "\n",
    "Our Technology teams challenge the status quo and reimagine capabilities across industries. Whether through research and development, technology innovation or solution engineering, our people play vital roles in connecting consumers with the products and platforms of tomorrow.\n",
    "\n",
    "Job Duties And Responsibilities\n",
    "\n",
    "We are looking for a skilled and experienced Data Scientist who excels in applying classical machine learning, deep learning and statistical modeling to solve data science problems. The ideal candidate will have the ability to translate complex business problems into data science problems and architect data science-based solutions. As a Data Scientist, you will play a crucial role in leading and mentoring junior data scientists, while collaborating with cross-functional teams to drive data-driven decision-making and solve challenging business problems.\n",
    "\n",
    "Primary Responsibilities\n",
    "\n",
    "     Apply classical machine learning algorithms and statistical models to solve complex business problems and generate actionable insights \n",
    "     Design, develop, and implement data science solutions, including feature engineering, model development, and evaluation \n",
    "     Architect scalable and efficient data pipelines for data preprocessing, feature extraction, and model training \n",
    "     Conduct exploratory data analysis (EDA) to understand data characteristics, identify patterns, and gain insights into data quality and availability \n",
    "     Mentor and lead junior data scientists, providing technical guidance and fostering their growth and development \n",
    "     Communicate complex analytical concepts and findings to both technical and non-technical stakeholders in a clear and concise manner \n",
    "     Stay updated with the latest advancements in machine learning algorithms, tools, and techniques \n",
    "\n",
    "Skills, Experience And Requirements\n",
    "\n",
    " Education and Experience: \n",
    "\n",
    "     Bachelors or Masters degree in a quantitative field such as Mathematics, Statistics, Computer Science, or related disciplines \n",
    "     Minimum of 2 years of experience in data science, with a focus on classical machine learning and exploratory data analysis \n",
    "\n",
    "Skills And Qualifications\n",
    "\n",
    "     Proficiency in classical machine learning algorithms, statistical models, and their practical application \n",
    "     Strong programming skills in languages such as Python or R for data manipulation, model development, and evaluation \n",
    "     Solid understanding of data preprocessing techniques, feature engineering, and model evaluation methods \n",
    "     Experience in designing and implementing scalable data pipelines for preprocessing, feature extraction, and model training \n",
    "     Strong problem-solving and analytical skills, with the ability to think critically and creatively \n",
    "\n",
    "Salary Ranges\n",
    "\n",
    "Compensation: $72,400.00/Year - $118,900.00/Year\n",
    "\n",
    "Benefits\n",
    "\n",
    "We offer versatile health perks, including flexible spending accounts, HSA, a 401(k) Plan with company match, ESPP, career opportunities and a flexible time away plan; all benefits can be viewed here: DISH Benefits .\n",
    "\n",
    "The base pay range shown is a guideline. Individual total compensation will vary based on factors such as qualifications, skill level and competencies; compensation is based on the role's location and is subject to change based on work location. Candidates need to successfully complete a pre-employment screen, which may include a drug test and DMV check.\n",
    "\n",
    "This will be posted for a minimum of 3 days or until the position is filled.\n",
    "\"\"\""
   ]
  },
  {
   "cell_type": "code",
   "execution_count": 10,
   "metadata": {},
   "outputs": [],
   "source": [
    "text=input_pdf_setup('Resume_Jash_09_SDE.pdf')\n",
    "response=get_gemini_repsonse(input_prompt)"
   ]
  },
  {
   "cell_type": "code",
   "execution_count": 11,
   "metadata": {},
   "outputs": [
    {
     "name": "stdout",
     "output_type": "stream",
     "text": [
      "{{\"JD Match\":\"65%\",\"MissingKeywords\":[\"TensorFlow\",\"Azure ML Studio\",\"AWS SageMaker\",\"Tableau\",\"Power BI\"],\"Profile Summary\":\"This resume is a good fit for the Data Engineer role but could be improved with additional keywords and details in the resume.\"}}\n"
     ]
    }
   ],
   "source": [
    "print(response)"
   ]
  },
  {
   "cell_type": "code",
   "execution_count": 21,
   "metadata": {},
   "outputs": [],
   "source": [
    "improvement_prompt = \"\"\"You are an experienced Technical Human Resource Manager,your task is to review the provided resume against the job description. \n",
    "  Please share your professional evaluation on whether the candidate's profile aligns with the role. \n",
    " Highlight the strengths and weaknesses of the applicant in relation to the specified job requirements.\n",
    " \"\"\""
   ]
  },
  {
   "cell_type": "code",
   "execution_count": 23,
   "metadata": {},
   "outputs": [],
   "source": [
    "response_projects = model.generate_content([improvement_prompt, text, jd])"
   ]
  },
  {
   "cell_type": "code",
   "execution_count": 25,
   "metadata": {},
   "outputs": [
    {
     "name": "stdout",
     "output_type": "stream",
     "text": [
      "**Technical Human Resource Manager Evaluation**\n",
      "\n",
      "**Candidate's Profile Alignment with the Job Description**\n",
      "\n",
      "**Strengths:**\n",
      "\n",
      "* **Mathematical and Statistical Background:** The candidate holds a Bachelor's degree in Information Technology and is currently pursuing a Master's in Computer Science, with relevant coursework in Algorithms, Machine Learning, and Natural Language Processing. This aligns well with the requirement for a quantitative background.\n",
      "* **Classical Machine Learning Skills:** The candidate demonstrates proficiency in classical machine learning algorithms, statistical models, and their practical application, through experience and certifications.\n",
      "* **Data Preprocessing and Feature Engineering:** The candidate has experience in designing and implementing data pipelines for preprocessing, feature extraction, and model training.\n",
      "* **Programming Languages:** Strong programming skills in Python and R are essential for data manipulation, model development, and evaluation. The candidate has proficiency in these languages.\n",
      "* **Problem-Solving and Analytical Skills:** The candidate has a history of solving complex business problems using data science techniques and generating actionable insights.\n",
      "\n",
      "**Weaknesses:**\n",
      "\n",
      "* **Experience in Deep Learning:** The job description mentions deep learning as a crucial skill. While the candidate's resume highlights experience in machine learning and statistical modeling, there is no specific mention of deep learning projects or applications.\n",
      "* **Mentoring and Leadership:** The job requires mentoring and leading junior data scientists. The candidate's resume does not provide evidence of experience in these areas.\n",
      "\n",
      "**Recommendations:**\n",
      "\n",
      "Overall, the candidate's profile aligns well with the job requirements. However, to enhance their candidacy, it would be beneficial to highlight any experience or projects involving deep learning, as well as to emphasize their leadership and mentoring capabilities. Additionally, the candidate may consider obtaining additional certifications in deep learning or data science leadership to further strengthen their application.\n"
     ]
    }
   ],
   "source": [
    "print(response_projects.text)"
   ]
  },
  {
   "cell_type": "code",
   "execution_count": null,
   "metadata": {},
   "outputs": [],
   "source": []
  }
 ],
 "metadata": {
  "kernelspec": {
   "display_name": "nlp-ssd",
   "language": "python",
   "name": "python3"
  },
  "language_info": {
   "codemirror_mode": {
    "name": "ipython",
    "version": 3
   },
   "file_extension": ".py",
   "mimetype": "text/x-python",
   "name": "python",
   "nbconvert_exporter": "python",
   "pygments_lexer": "ipython3",
   "version": "3.9.18"
  },
  "orig_nbformat": 4
 },
 "nbformat": 4,
 "nbformat_minor": 2
}
