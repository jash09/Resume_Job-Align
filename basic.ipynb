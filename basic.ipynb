{
 "cells": [
  {
   "cell_type": "code",
   "execution_count": 1,
   "metadata": {},
   "outputs": [
    {
     "name": "stdout",
     "output_type": "stream",
     "text": [
      "hi\n"
     ]
    }
   ],
   "source": [
    "print('hi')"
   ]
  },
  {
   "cell_type": "code",
   "execution_count": 2,
   "metadata": {},
   "outputs": [],
   "source": [
    "from dotenv import load_dotenv\n",
    "\n",
    "load_dotenv()\n",
    "import base64\n",
    "import os\n",
    "import io\n",
    "from PIL import Image \n",
    "import pdf2image\n",
    "import google.generativeai as genai"
   ]
  },
  {
   "cell_type": "code",
   "execution_count": 13,
   "metadata": {},
   "outputs": [],
   "source": [
    "genai.configure(api_key=os.getenv(\"GOOGLE_API_KEY\"))"
   ]
  },
  {
   "cell_type": "code",
   "execution_count": 14,
   "metadata": {},
   "outputs": [],
   "source": [
    "def get_gemini_response(input,pdf_content,prompt):\n",
    "    model=genai.GenerativeModel('gemini-pro')\n",
    "    response=model.generate_content([input,pdf_content[0],prompt])\n",
    "    return response.text"
   ]
  },
  {
   "cell_type": "code",
   "execution_count": 5,
   "metadata": {},
   "outputs": [],
   "source": [
    "import PyPDF2"
   ]
  },
  {
   "cell_type": "code",
   "execution_count": 6,
   "metadata": {},
   "outputs": [],
   "source": [
    "def input_pdf_setup(file_path):\n",
    "    text = ''\n",
    "    if file_path is not None:\n",
    "        with open(file_path, 'rb') as file:\n",
    "            reader = PyPDF2.PdfReader(file)\n",
    "            for page in reader.pages:\n",
    "                text += page.extractText()\n",
    "    return text"
   ]
  },
  {
   "cell_type": "code",
   "execution_count": 7,
   "metadata": {},
   "outputs": [],
   "source": [
    "input_prompt1 = \"\"\"\n",
    " You are an experienced Technical Human Resource Manager,your task is to review the provided resume against the job description. \n",
    "  Please share your professional evaluation on whether the candidate's profile aligns with the role. \n",
    " Highlight the strengths and weaknesses of the applicant in relation to the specified job requirements.\n",
    "\"\"\""
   ]
  },
  {
   "cell_type": "code",
   "execution_count": 8,
   "metadata": {},
   "outputs": [],
   "source": [
    "input_prompt3 = \"\"\"\n",
    "You are an skilled ATS (Applicant Tracking System) scanner with a deep understanding of data science and ATS functionality, \n",
    "your task is to evaluate the resume against the provided job description. give me the percentage of match if the resume matches\n",
    "the job description. First the output should come as percentage and then keywords missing and last final thoughts.\n",
    "\"\"\""
   ]
  },
  {
   "cell_type": "code",
   "execution_count": 9,
   "metadata": {},
   "outputs": [],
   "source": [
    "uploaded_file = 'Resume_Jash_09_SDE.pdf'"
   ]
  },
  {
   "cell_type": "code",
   "execution_count": 10,
   "metadata": {},
   "outputs": [],
   "source": [
    "input_text = \"\"\"\n",
    "About the job\n",
    "Data Analyst Internship -Data Science & Gen-AI Team\n",
    "\n",
    "At Peerlogic, we're pioneering the integration of artificial intelligence to revolutionize communication within the healthcare community. Guided by our core values of Curiosity, Accountability, Grit, and Enthusiasm (CAGE), we strive for excellence in innovating AI-driven solutions that improve, streamline, and transform professional interactions in medical settings. We're on the hunt for a Data Analysis II Intern to join our Data Science and Gen-AI team, a role critical to our mission of shaping the future of healthcare communication.\n",
    "\n",
    "Location: Scottsdale, Arizona\n",
    "\n",
    "Duration: 6 months, with potential for extension or transition to a full-time position\n",
    "\n",
    "Role Overview\n",
    "\n",
    "As a Data Analysis Intern, you will dive deep into the intricacies of AI and data science, contributing directly to projects at the cutting edge of technology and healthcare. Reporting to Dr. Amir Yazdavar, PhD, Principal Data Scientist, your work will support the development of AI solutions that embody our CAGE values, pushing the boundaries of what's possible in healthcare communication.\n",
    "\n",
    "Key Responsibilities\n",
    "\n",
    "    Conduct advanced data analysis, utilizing statistical software and machine learning algorithms to extract insights from complex healthcare datasets.\n",
    "    Collaborate with our AI development team to refine and enhance AI models, ensuring they meet the high standards required for healthcare applications.\n",
    "    Engage in the entire lifecycle of AI solution development, from initial data collection and analysis to implementation and feedback collection.\n",
    "    Develop and present clear, actionable insights to team members and stakeholders, aiding in decision-making and strategy development.\n",
    "    Contribute to the creation of a robust knowledge base by documenting findings, methodologies, and best practices.\n",
    "\n",
    "Qualifications\n",
    "\n",
    "    Pursuing or recently completed a degree in Data Science, Computer Science, Statistics, Mathematics, or related field, with a strong academic record.\n",
    "    Demonstrated experience with data analysis and statistical tools (e.g., Python, R), and a keen interest in AI and machine learning.\n",
    "    A proactive learner with a knack for problem-solving and a passion for healthcare innovation.\n",
    "    Exceptional communication skills, with the ability to convey complex ideas effectively to a diverse audience.\n",
    "    Alignment with Peerlogic’s core values of Curiosity, Accountability, Grit, and Enthusiasm, and a strong desire to make a positive impact in healthcare.\n",
    "\n",
    "What You'll Gain:\n",
    "\n",
    "    A competitive stipend and flexible scheduling to accommodate your educational commitments.\n",
    "    Hands-on experience in a fast-paced startup environment, working on groundbreaking projects at the intersection of AI and healthcare.\n",
    "    Direct mentorship from Dr. Amir Yazdavar and the opportunity to learn from a team of experienced professionals.\n",
    "    Access to a network of industry professionals and potential for future employment opportunities within Peerlogic.\n",
    "\n",
    "Interested candidates should apply with a resume, cover letter detailing their interest and fit for the role, and any relevant project samples or portfolios.\n",
    "\n",
    "Peerlogic is an equal-opportunity employer dedicated to building a diverse and inclusive team. We encourage applications from all qualified individuals who share our vision for improving healthcare communication. \"\"\""
   ]
  },
  {
   "cell_type": "code",
   "execution_count": 15,
   "metadata": {},
   "outputs": [
    {
     "ename": "DefaultCredentialsError",
     "evalue": "Your default credentials were not found. To set up Application Default Credentials, see https://cloud.google.com/docs/authentication/external/set-up-adc for more information.",
     "output_type": "error",
     "traceback": [
      "\u001b[0;31m---------------------------------------------------------------------------\u001b[0m",
      "\u001b[0;31mDefaultCredentialsError\u001b[0m                   Traceback (most recent call last)",
      "Cell \u001b[0;32mIn[15], line 2\u001b[0m\n\u001b[1;32m      1\u001b[0m pdf_content\u001b[39m=\u001b[39minput_pdf_setup(uploaded_file)\n\u001b[0;32m----> 2\u001b[0m response\u001b[39m=\u001b[39mget_gemini_response(input_prompt1,pdf_content,input_text)\n",
      "Cell \u001b[0;32mIn[14], line 3\u001b[0m, in \u001b[0;36mget_gemini_response\u001b[0;34m(input, pdf_content, prompt)\u001b[0m\n\u001b[1;32m      1\u001b[0m \u001b[39mdef\u001b[39;00m \u001b[39mget_gemini_response\u001b[39m(\u001b[39minput\u001b[39m,pdf_content,prompt):\n\u001b[1;32m      2\u001b[0m     model\u001b[39m=\u001b[39mgenai\u001b[39m.\u001b[39mGenerativeModel(\u001b[39m'\u001b[39m\u001b[39mgemini-pro\u001b[39m\u001b[39m'\u001b[39m)\n\u001b[0;32m----> 3\u001b[0m     response\u001b[39m=\u001b[39mmodel\u001b[39m.\u001b[39;49mgenerate_content([\u001b[39minput\u001b[39;49m,pdf_content[\u001b[39m0\u001b[39;49m],prompt])\n\u001b[1;32m      4\u001b[0m     \u001b[39mreturn\u001b[39;00m response\u001b[39m.\u001b[39mtext\n",
      "File \u001b[0;32m~/anaconda3/envs/nlp-ssd/lib/python3.9/site-packages/google/generativeai/generative_models.py:248\u001b[0m, in \u001b[0;36mGenerativeModel.generate_content\u001b[0;34m(self, contents, generation_config, safety_settings, stream, tools, tool_config, request_options)\u001b[0m\n\u001b[1;32m    240\u001b[0m request \u001b[39m=\u001b[39m \u001b[39mself\u001b[39m\u001b[39m.\u001b[39m_prepare_request(\n\u001b[1;32m    241\u001b[0m     contents\u001b[39m=\u001b[39mcontents,\n\u001b[1;32m    242\u001b[0m     generation_config\u001b[39m=\u001b[39mgeneration_config,\n\u001b[0;32m   (...)\u001b[0m\n\u001b[1;32m    245\u001b[0m     tool_config\u001b[39m=\u001b[39mtool_config,\n\u001b[1;32m    246\u001b[0m )\n\u001b[1;32m    247\u001b[0m \u001b[39mif\u001b[39;00m \u001b[39mself\u001b[39m\u001b[39m.\u001b[39m_client \u001b[39mis\u001b[39;00m \u001b[39mNone\u001b[39;00m:\n\u001b[0;32m--> 248\u001b[0m     \u001b[39mself\u001b[39m\u001b[39m.\u001b[39m_client \u001b[39m=\u001b[39m client\u001b[39m.\u001b[39;49mget_default_generative_client()\n\u001b[1;32m    250\u001b[0m \u001b[39mif\u001b[39;00m request_options \u001b[39mis\u001b[39;00m \u001b[39mNone\u001b[39;00m:\n\u001b[1;32m    251\u001b[0m     request_options \u001b[39m=\u001b[39m {}\n",
      "File \u001b[0;32m~/anaconda3/envs/nlp-ssd/lib/python3.9/site-packages/google/generativeai/client.py:306\u001b[0m, in \u001b[0;36mget_default_generative_client\u001b[0;34m()\u001b[0m\n\u001b[1;32m    305\u001b[0m \u001b[39mdef\u001b[39;00m \u001b[39mget_default_generative_client\u001b[39m() \u001b[39m-\u001b[39m\u001b[39m>\u001b[39m glm\u001b[39m.\u001b[39mGenerativeServiceClient:\n\u001b[0;32m--> 306\u001b[0m     \u001b[39mreturn\u001b[39;00m _client_manager\u001b[39m.\u001b[39;49mget_default_client(\u001b[39m\"\u001b[39;49m\u001b[39mgenerative\u001b[39;49m\u001b[39m\"\u001b[39;49m)\n",
      "File \u001b[0;32m~/anaconda3/envs/nlp-ssd/lib/python3.9/site-packages/google/generativeai/client.py:230\u001b[0m, in \u001b[0;36m_ClientManager.get_default_client\u001b[0;34m(self, name)\u001b[0m\n\u001b[1;32m    228\u001b[0m client \u001b[39m=\u001b[39m \u001b[39mself\u001b[39m\u001b[39m.\u001b[39mclients\u001b[39m.\u001b[39mget(name)\n\u001b[1;32m    229\u001b[0m \u001b[39mif\u001b[39;00m client \u001b[39mis\u001b[39;00m \u001b[39mNone\u001b[39;00m:\n\u001b[0;32m--> 230\u001b[0m     client \u001b[39m=\u001b[39m \u001b[39mself\u001b[39;49m\u001b[39m.\u001b[39;49mmake_client(name)\n\u001b[1;32m    231\u001b[0m     \u001b[39mself\u001b[39m\u001b[39m.\u001b[39mclients[name] \u001b[39m=\u001b[39m client\n\u001b[1;32m    232\u001b[0m \u001b[39mreturn\u001b[39;00m client\n",
      "File \u001b[0;32m~/anaconda3/envs/nlp-ssd/lib/python3.9/site-packages/google/generativeai/client.py:188\u001b[0m, in \u001b[0;36m_ClientManager.make_client\u001b[0;34m(self, name)\u001b[0m\n\u001b[1;32m    185\u001b[0m \u001b[39mif\u001b[39;00m \u001b[39mnot\u001b[39;00m \u001b[39mself\u001b[39m\u001b[39m.\u001b[39mclient_config:\n\u001b[1;32m    186\u001b[0m     configure()\n\u001b[0;32m--> 188\u001b[0m client \u001b[39m=\u001b[39m \u001b[39mcls\u001b[39;49m(\u001b[39m*\u001b[39;49m\u001b[39m*\u001b[39;49m\u001b[39mself\u001b[39;49m\u001b[39m.\u001b[39;49mclient_config)\n\u001b[1;32m    190\u001b[0m \u001b[39mif\u001b[39;00m \u001b[39mnot\u001b[39;00m \u001b[39mself\u001b[39m\u001b[39m.\u001b[39mdefault_metadata:\n\u001b[1;32m    191\u001b[0m     \u001b[39mreturn\u001b[39;00m client\n",
      "File \u001b[0;32m~/anaconda3/envs/nlp-ssd/lib/python3.9/site-packages/google/ai/generativelanguage_v1beta/services/generative_service/client.py:655\u001b[0m, in \u001b[0;36mGenerativeServiceClient.__init__\u001b[0;34m(self, credentials, transport, client_options, client_info)\u001b[0m\n\u001b[1;32m    650\u001b[0m     credentials \u001b[39m=\u001b[39m google\u001b[39m.\u001b[39mauth\u001b[39m.\u001b[39m_default\u001b[39m.\u001b[39mget_api_key_credentials(\n\u001b[1;32m    651\u001b[0m         api_key_value\n\u001b[1;32m    652\u001b[0m     )\n\u001b[1;32m    654\u001b[0m Transport \u001b[39m=\u001b[39m \u001b[39mtype\u001b[39m(\u001b[39mself\u001b[39m)\u001b[39m.\u001b[39mget_transport_class(cast(\u001b[39mstr\u001b[39m, transport))\n\u001b[0;32m--> 655\u001b[0m \u001b[39mself\u001b[39m\u001b[39m.\u001b[39m_transport \u001b[39m=\u001b[39m Transport(\n\u001b[1;32m    656\u001b[0m     credentials\u001b[39m=\u001b[39;49mcredentials,\n\u001b[1;32m    657\u001b[0m     credentials_file\u001b[39m=\u001b[39;49m\u001b[39mself\u001b[39;49m\u001b[39m.\u001b[39;49m_client_options\u001b[39m.\u001b[39;49mcredentials_file,\n\u001b[1;32m    658\u001b[0m     host\u001b[39m=\u001b[39;49m\u001b[39mself\u001b[39;49m\u001b[39m.\u001b[39;49m_api_endpoint,\n\u001b[1;32m    659\u001b[0m     scopes\u001b[39m=\u001b[39;49m\u001b[39mself\u001b[39;49m\u001b[39m.\u001b[39;49m_client_options\u001b[39m.\u001b[39;49mscopes,\n\u001b[1;32m    660\u001b[0m     client_cert_source_for_mtls\u001b[39m=\u001b[39;49m\u001b[39mself\u001b[39;49m\u001b[39m.\u001b[39;49m_client_cert_source,\n\u001b[1;32m    661\u001b[0m     quota_project_id\u001b[39m=\u001b[39;49m\u001b[39mself\u001b[39;49m\u001b[39m.\u001b[39;49m_client_options\u001b[39m.\u001b[39;49mquota_project_id,\n\u001b[1;32m    662\u001b[0m     client_info\u001b[39m=\u001b[39;49mclient_info,\n\u001b[1;32m    663\u001b[0m     always_use_jwt_access\u001b[39m=\u001b[39;49m\u001b[39mTrue\u001b[39;49;00m,\n\u001b[1;32m    664\u001b[0m     api_audience\u001b[39m=\u001b[39;49m\u001b[39mself\u001b[39;49m\u001b[39m.\u001b[39;49m_client_options\u001b[39m.\u001b[39;49mapi_audience,\n\u001b[1;32m    665\u001b[0m )\n",
      "File \u001b[0;32m~/anaconda3/envs/nlp-ssd/lib/python3.9/site-packages/google/ai/generativelanguage_v1beta/services/generative_service/transports/grpc.py:150\u001b[0m, in \u001b[0;36mGenerativeServiceGrpcTransport.__init__\u001b[0;34m(self, host, credentials, credentials_file, scopes, channel, api_mtls_endpoint, client_cert_source, ssl_channel_credentials, client_cert_source_for_mtls, quota_project_id, client_info, always_use_jwt_access, api_audience)\u001b[0m\n\u001b[1;32m    145\u001b[0m             \u001b[39mself\u001b[39m\u001b[39m.\u001b[39m_ssl_channel_credentials \u001b[39m=\u001b[39m grpc\u001b[39m.\u001b[39mssl_channel_credentials(\n\u001b[1;32m    146\u001b[0m                 certificate_chain\u001b[39m=\u001b[39mcert, private_key\u001b[39m=\u001b[39mkey\n\u001b[1;32m    147\u001b[0m             )\n\u001b[1;32m    149\u001b[0m \u001b[39m# The base transport sets the host, credentials and scopes\u001b[39;00m\n\u001b[0;32m--> 150\u001b[0m \u001b[39msuper\u001b[39;49m()\u001b[39m.\u001b[39;49m\u001b[39m__init__\u001b[39;49m(\n\u001b[1;32m    151\u001b[0m     host\u001b[39m=\u001b[39;49mhost,\n\u001b[1;32m    152\u001b[0m     credentials\u001b[39m=\u001b[39;49mcredentials,\n\u001b[1;32m    153\u001b[0m     credentials_file\u001b[39m=\u001b[39;49mcredentials_file,\n\u001b[1;32m    154\u001b[0m     scopes\u001b[39m=\u001b[39;49mscopes,\n\u001b[1;32m    155\u001b[0m     quota_project_id\u001b[39m=\u001b[39;49mquota_project_id,\n\u001b[1;32m    156\u001b[0m     client_info\u001b[39m=\u001b[39;49mclient_info,\n\u001b[1;32m    157\u001b[0m     always_use_jwt_access\u001b[39m=\u001b[39;49malways_use_jwt_access,\n\u001b[1;32m    158\u001b[0m     api_audience\u001b[39m=\u001b[39;49mapi_audience,\n\u001b[1;32m    159\u001b[0m )\n\u001b[1;32m    161\u001b[0m \u001b[39mif\u001b[39;00m \u001b[39mnot\u001b[39;00m \u001b[39mself\u001b[39m\u001b[39m.\u001b[39m_grpc_channel:\n\u001b[1;32m    162\u001b[0m     \u001b[39mself\u001b[39m\u001b[39m.\u001b[39m_grpc_channel \u001b[39m=\u001b[39m \u001b[39mtype\u001b[39m(\u001b[39mself\u001b[39m)\u001b[39m.\u001b[39mcreate_channel(\n\u001b[1;32m    163\u001b[0m         \u001b[39mself\u001b[39m\u001b[39m.\u001b[39m_host,\n\u001b[1;32m    164\u001b[0m         \u001b[39m# use the credentials which are saved\u001b[39;00m\n\u001b[0;32m   (...)\u001b[0m\n\u001b[1;32m    175\u001b[0m         ],\n\u001b[1;32m    176\u001b[0m     )\n",
      "File \u001b[0;32m~/anaconda3/envs/nlp-ssd/lib/python3.9/site-packages/google/ai/generativelanguage_v1beta/services/generative_service/transports/base.py:98\u001b[0m, in \u001b[0;36mGenerativeServiceTransport.__init__\u001b[0;34m(self, host, credentials, credentials_file, scopes, quota_project_id, client_info, always_use_jwt_access, api_audience, **kwargs)\u001b[0m\n\u001b[1;32m     94\u001b[0m     credentials, _ \u001b[39m=\u001b[39m google\u001b[39m.\u001b[39mauth\u001b[39m.\u001b[39mload_credentials_from_file(\n\u001b[1;32m     95\u001b[0m         credentials_file, \u001b[39m*\u001b[39m\u001b[39m*\u001b[39mscopes_kwargs, quota_project_id\u001b[39m=\u001b[39mquota_project_id\n\u001b[1;32m     96\u001b[0m     )\n\u001b[1;32m     97\u001b[0m \u001b[39melif\u001b[39;00m credentials \u001b[39mis\u001b[39;00m \u001b[39mNone\u001b[39;00m:\n\u001b[0;32m---> 98\u001b[0m     credentials, _ \u001b[39m=\u001b[39m google\u001b[39m.\u001b[39;49mauth\u001b[39m.\u001b[39;49mdefault(\n\u001b[1;32m     99\u001b[0m         \u001b[39m*\u001b[39;49m\u001b[39m*\u001b[39;49mscopes_kwargs, quota_project_id\u001b[39m=\u001b[39;49mquota_project_id\n\u001b[1;32m    100\u001b[0m     )\n\u001b[1;32m    101\u001b[0m     \u001b[39m# Don't apply audience if the credentials file passed from user.\u001b[39;00m\n\u001b[1;32m    102\u001b[0m     \u001b[39mif\u001b[39;00m \u001b[39mhasattr\u001b[39m(credentials, \u001b[39m\"\u001b[39m\u001b[39mwith_gdch_audience\u001b[39m\u001b[39m\"\u001b[39m):\n",
      "File \u001b[0;32m~/anaconda3/envs/nlp-ssd/lib/python3.9/site-packages/google/auth/_default.py:691\u001b[0m, in \u001b[0;36mdefault\u001b[0;34m(scopes, request, quota_project_id, default_scopes)\u001b[0m\n\u001b[1;32m    683\u001b[0m             _LOGGER\u001b[39m.\u001b[39mwarning(\n\u001b[1;32m    684\u001b[0m                 \u001b[39m\"\u001b[39m\u001b[39mNo project ID could be determined. Consider running \u001b[39m\u001b[39m\"\u001b[39m\n\u001b[1;32m    685\u001b[0m                 \u001b[39m\"\u001b[39m\u001b[39m`gcloud config set project` or setting the \u001b[39m\u001b[39m%s\u001b[39;00m\u001b[39m \u001b[39m\u001b[39m\"\u001b[39m\n\u001b[1;32m    686\u001b[0m                 \u001b[39m\"\u001b[39m\u001b[39menvironment variable\u001b[39m\u001b[39m\"\u001b[39m,\n\u001b[1;32m    687\u001b[0m                 environment_vars\u001b[39m.\u001b[39mPROJECT,\n\u001b[1;32m    688\u001b[0m             )\n\u001b[1;32m    689\u001b[0m         \u001b[39mreturn\u001b[39;00m credentials, effective_project_id\n\u001b[0;32m--> 691\u001b[0m \u001b[39mraise\u001b[39;00m exceptions\u001b[39m.\u001b[39mDefaultCredentialsError(_CLOUD_SDK_MISSING_CREDENTIALS)\n",
      "\u001b[0;31mDefaultCredentialsError\u001b[0m: Your default credentials were not found. To set up Application Default Credentials, see https://cloud.google.com/docs/authentication/external/set-up-adc for more information."
     ]
    }
   ],
   "source": [
    "pdf_content=input_pdf_setup(uploaded_file)\n",
    "response=get_gemini_response(input_prompt1,pdf_content,input_text)"
   ]
  },
  {
   "cell_type": "code",
   "execution_count": null,
   "metadata": {},
   "outputs": [],
   "source": []
  }
 ],
 "metadata": {
  "kernelspec": {
   "display_name": "Python 3",
   "language": "python",
   "name": "python3"
  },
  "language_info": {
   "codemirror_mode": {
    "name": "ipython",
    "version": 3
   },
   "file_extension": ".py",
   "mimetype": "text/x-python",
   "name": "python",
   "nbconvert_exporter": "python",
   "pygments_lexer": "ipython3",
   "version": "3.9.18"
  },
  "orig_nbformat": 4
 },
 "nbformat": 4,
 "nbformat_minor": 2
}
