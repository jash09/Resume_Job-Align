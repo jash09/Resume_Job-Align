{
 "cells": [
  {
   "cell_type": "code",
   "execution_count": 3,
   "metadata": {},
   "outputs": [
    {
     "name": "stderr",
     "output_type": "stream",
     "text": [
      "[nltk_data] Downloading package stopwords to\n",
      "[nltk_data]     /Users/parthvinm/nltk_data...\n",
      "[nltk_data]   Unzipping corpora/stopwords.zip.\n",
      "[nltk_data] Downloading package punkt to /Users/parthvinm/nltk_data...\n",
      "[nltk_data]   Package punkt is already up-to-date!\n"
     ]
    },
    {
     "data": {
      "text/plain": [
       "True"
      ]
     },
     "execution_count": 3,
     "metadata": {},
     "output_type": "execute_result"
    }
   ],
   "source": [
    "import pandas as pd\n",
    "import json\n",
    "import re\n",
    "from sklearn.feature_extraction.text import TfidfVectorizer\n",
    "from sklearn.metrics import pairwise\n",
    "import nltk\n",
    "from nltk.corpus import stopwords\n",
    "from nltk.stem import PorterStemmer\n",
    "from nltk.tokenize import word_tokenize\n",
    "\n",
    "# Download required NLTK data\n",
    "nltk.download('stopwords')\n",
    "nltk.download('punkt')"
   ]
  },
  {
   "cell_type": "code",
   "execution_count": 21,
   "metadata": {},
   "outputs": [],
   "source": [
    "# Define text normalization function\n",
    "def normalize_text(text: str) -> list:\n",
    "    \"\"\"Normalize the input text.\"\"\"\n",
    "    words = word_tokenize(text)\n",
    "    words = [re.sub('[^a-zA-Z]', '', word).lower() for word in words]\n",
    "    words = [word for word in words if len(word)]\n",
    "    stop_words = set(stopwords.words('english'))\n",
    "    words = [word for word in words if word not in stop_words]\n",
    "    stemmer = PorterStemmer()\n",
    "    words = [stemmer.stem(word) for word in words]\n",
    "    return words"
   ]
  },
  {
   "cell_type": "code",
   "execution_count": 22,
   "metadata": {},
   "outputs": [],
   "source": [
    "# Define cosine similarity function\n",
    "def cosine_similarity(document1: str, document2: str) -> float:\n",
    "    \"\"\"Calculate the cosine similarity between two documents.\"\"\"\n",
    "    vectorizer = TfidfVectorizer()\n",
    "    vectors = vectorizer.fit_transform([document1, document2])\n",
    "    cosine_similarity_score = pairwise.cosine_similarity(vectors[0], vectors[1])\n",
    "    return cosine_similarity_score.item()"
   ]
  },
  {
   "cell_type": "code",
   "execution_count": 23,
   "metadata": {},
   "outputs": [],
   "source": [
    "# Function to extract and process fields\n",
    "def extract_and_process_field(json_data, field_name):\n",
    "    try:\n",
    "        field = json_data.get(field_name, \"\")\n",
    "        if isinstance(field, list):\n",
    "            processed_items = []\n",
    "            for item in field:\n",
    "                if isinstance(item, dict):\n",
    "                    # Convert each dictionary to a string representation\n",
    "                    processed_items.append(\" \".join(f\"{k}: {v}\" for k, v in item.items() if isinstance(v, str)))\n",
    "                else:\n",
    "                    processed_items.append(str(item))\n",
    "            field = \" \".join(processed_items)\n",
    "        return field\n",
    "    except (json.JSONDecodeError, AttributeError):\n",
    "        return \"\""
   ]
  },
  {
   "cell_type": "code",
   "execution_count": 24,
   "metadata": {},
   "outputs": [],
   "source": [
    "# Function to process each row\n",
    "def process_resume_row(row):\n",
    "    try:\n",
    "        # Load JSON objects\n",
    "        resume_json = json.loads(row['resume_json'])\n",
    "        new_resume_json = json.loads(row['new_resume'])\n",
    "\n",
    "        # Extract and process work experience and projects\n",
    "        work_ex_resume = extract_and_process_field(resume_json, 'work_experience')\n",
    "        projects_resume = extract_and_process_field(resume_json, 'projects')\n",
    "        work_ex_new_resume = extract_and_process_field(new_resume_json, 'work_experience')\n",
    "        projects_new_resume = extract_and_process_field(new_resume_json, 'projects')\n",
    "\n",
    "        # Normalize text\n",
    "        work_ex_resume_normalized = \" \".join(normalize_text(work_ex_resume))\n",
    "        projects_resume_normalized = \" \".join(normalize_text(projects_resume))\n",
    "        work_ex_new_resume_normalized = \" \".join(normalize_text(work_ex_new_resume))\n",
    "        projects_new_resume_normalized = \" \".join(normalize_text(projects_new_resume))\n",
    "\n",
    "        # Calculate cosine similarities\n",
    "        work_ex_score = cosine_similarity(work_ex_resume_normalized, work_ex_new_resume_normalized)\n",
    "        projects_score = cosine_similarity(projects_resume_normalized, projects_new_resume_normalized)\n",
    "\n",
    "        # Return similarity scores\n",
    "        return pd.Series([work_ex_score, projects_score])\n",
    "\n",
    "    except json.JSONDecodeError:\n",
    "        # Handle JSON decoding errors\n",
    "        return pd.Series([None, None])"
   ]
  },
  {
   "cell_type": "code",
   "execution_count": 27,
   "metadata": {},
   "outputs": [],
   "source": [
    "# Example usage with a DataFrame 'df'\n",
    "df = pd.read_csv('new_resumes.csv')  # Assuming you load your DataFrame from a CSV file\n",
    "\n",
    "# Filter out rows where new_resume is empty\n",
    "df = df[df['new_resume'].notna()]\n",
    "\n",
    "# Apply the function to each row\n",
    "df[['work_ex_similarity', 'projects_similarity']] = df.apply(process_resume_row, axis=1)\n",
    "\n",
    "# Save the DataFrame to a new CSV file\n",
    "df.to_csv('new_resumes_wsim.csv', index=False)"
   ]
  },
  {
   "cell_type": "code",
   "execution_count": 29,
   "metadata": {},
   "outputs": [
    {
     "data": {
      "text/plain": [
       "0.26909632511407555"
      ]
     },
     "execution_count": 29,
     "metadata": {},
     "output_type": "execute_result"
    }
   ],
   "source": [
    "df.iloc[0]['projects_similarity']"
   ]
  }
 ],
 "metadata": {
  "kernelspec": {
   "display_name": "nlp_project",
   "language": "python",
   "name": "python3"
  },
  "language_info": {
   "codemirror_mode": {
    "name": "ipython",
    "version": 3
   },
   "file_extension": ".py",
   "mimetype": "text/x-python",
   "name": "python",
   "nbconvert_exporter": "python",
   "pygments_lexer": "ipython3",
   "version": "3.12.3"
  }
 },
 "nbformat": 4,
 "nbformat_minor": 2
}
