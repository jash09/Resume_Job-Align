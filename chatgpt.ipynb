{
 "cells": [
  {
   "cell_type": "code",
   "execution_count": 23,
   "metadata": {},
   "outputs": [],
   "source": [
    "# sk-proj-Cw1drZV2K9ag9wXRLR2pT3BlbkFJZ9SiI26TtRgTVc9dT1UE"
   ]
  },
  {
   "cell_type": "code",
   "execution_count": 24,
   "metadata": {},
   "outputs": [],
   "source": [
    "import pandas as pd"
   ]
  },
  {
   "cell_type": "code",
   "execution_count": 25,
   "metadata": {},
   "outputs": [],
   "source": [
    "import os\n",
    "os.environ[\"OPENAI_API_KEY\"] = \"sk-proj-Cw1drZV2K9ag9wXRLR2pT3BlbkFJZ9SiI26TtRgTVc9dT1UE\" "
   ]
  },
  {
   "cell_type": "code",
   "execution_count": 26,
   "metadata": {},
   "outputs": [],
   "source": [
    "from openai import OpenAI\n",
    "client = OpenAI()"
   ]
  },
  {
   "cell_type": "code",
   "execution_count": 27,
   "metadata": {},
   "outputs": [],
   "source": [
    "df_prompts = pd.read_csv('prompts.csv')"
   ]
  },
  {
   "cell_type": "code",
   "execution_count": 35,
   "metadata": {},
   "outputs": [],
   "source": [
    "def generate_response(row, resume=True):\n",
    "    model = \"gpt-3.5-turbo\" \n",
    "\n",
    "    if resume:\n",
    "        prompt_structure = df_prompts.loc[df_prompts['prompt_name'] == 'prompt_structure', 'prompt_text'].values[0]\n",
    "        full_prompt = prompt_structure + \" \" + row['resume_text']\n",
    "    else:\n",
    "        prompt_job_description = df_prompts.loc[df_prompts['prompt_name'] == 'prompt_job_description', 'prompt_text'].values[0]\n",
    "        full_prompt = prompt_job_description + \" \" + row['job_description']\n",
    "    \n",
    "    chat_completion = client.chat.completions.create(\n",
    "        messages=[\n",
    "            {\"role\": \"system\", \"content\": \"This is a system message to initialize the model.\"},\n",
    "            {\"role\": \"user\", \"content\": full_prompt}\n",
    "        ],\n",
    "        model=model,\n",
    "    )\n",
    "\n",
    "    generated_text = chat_completion.choices[0].message.content.strip()\n",
    "\n",
    "    return generated_text"
   ]
  },
  {
   "cell_type": "code",
   "execution_count": 36,
   "metadata": {},
   "outputs": [
    {
     "data": {
      "text/plain": [
       "'{\\n    \"title\": \"Generative AI Developer\",\\n    \"keywords\": \"Generative AI, Python, TensorFlow, PyTorch, scikit-learn, AWS, Azure, NLP, GANs, VAEs, Diffusion models, Data visualization\",\\n    \"purpose\": \"To design, develop, and implement generative AI models using state-of-the-art techniques.\",\\n    \"duties_responsibilities\": [\\n        \"Design, develop, and implement generative AI models using state-of-the-art techniques.\",\\n        \"Collaborate with cross-functional teams to define project goals, research requirements, and develop innovative solutions.\",\\n        \"Optimize model performance through experimentation, hyperparameter tuning, and advanced optimization techniques.\",\\n        \"Stay up to date on the latest advancements in generative AI, deep learning, and related fields, and incorporate new techniques and methods into the team\\'s workflow.\",\\n        \"Develop and maintain clear and concise documentation of generative AI models, processes, and results.\",\\n        \"Communicate complex concepts and results to both technical and non-technical stakeholders.\",\\n        \"Provide support and guidance to other team members, and contribute to a positive, collaborative working environment.\"\\n    ],\\n    \"required_qualifications\": [\\n        \"Bachelor\\'s degree in computer science, artificial intelligence, or a related field.\",\\n        \"Strong programming skills in Python.\",\\n        \"Experience with machine learning frameworks, such as TensorFlow, PyTorch, or scikit-learn.\",\\n        \"Experience with cloud computing platforms, such as AWS or Azure.\",\\n        \"Excellent communication and problem-solving skills.\",\\n        \"Ability to work independently and as part of a team.\"\\n    ],\\n    \"preferred_qualifications\": null,\\n    \"company_name\": \"Not provided\",\\n    \"company_info\": null\\n}'"
      ]
     },
     "execution_count": 36,
     "metadata": {},
     "output_type": "execute_result"
    }
   ],
   "source": [
    "df_jobs = pd.read_csv('jobs.csv', encoding='iso-8859-1')\n",
    "a = generate_response(df_jobs.iloc[0], resume=False)\n",
    "a"
   ]
  },
  {
   "cell_type": "code",
   "execution_count": 23,
   "metadata": {},
   "outputs": [],
   "source": [
    "import functions as fn\n",
    "import pandas as pd\n",
    "import os\n",
    "import json\n",
    "\n",
    "os.environ[\"OPENAI_API_KEY\"] = \"sk-proj-Cw1drZV2K9ag9wXRLR2pT3BlbkFJZ9SiI26TtRgTVc9dT1UE\" \n",
    "from openai import OpenAI\n",
    "client = OpenAI()"
   ]
  },
  {
   "cell_type": "code",
   "execution_count": 24,
   "metadata": {},
   "outputs": [],
   "source": [
    "df_prompts = pd.read_csv('prompts.csv')\n",
    "df_resumes = pd.read_csv('resume_job_pairs_gpt.csv')\n",
    "row = df_resumes.iloc[0]\n",
    "\n",
    "resume_json = row['resume_json']\n",
    "job_title = row['title']\n",
    "job_description = row['job_json']"
   ]
  },
  {
   "cell_type": "code",
   "execution_count": 27,
   "metadata": {},
   "outputs": [
    {
     "data": {
      "text/plain": [
       "'{\"work_experience\": [{\"role\": \"DevOps Engineer\", \"company\": \"Cimpress, Mumbai, India\", \"location\": \"Mumbai, India\", \"from\": \"Aug 2021\", \"to\": \"Jul 2023\", \"description\": [\"Managed 75% of the AWS backbone architecture like SQN, SNS, Codebuilds, Codepipelines and EKS clusters, enhancing system reliability and scalability. (Systems Management)\", \"Supervised projects and brainstormed new ideas, improving task efficiency by at least 50% through innovative solutions and proactive leadership. (Innovation and Efficiency)\", \"Automated CI/CD pipelines to ensure 100% security, streamlining the deployment process and reducing human error. (Automation and Security)\", \"Managed key performance indicators (KPIs) to enhance website performance, achieving measurable improvements in site speed and stability. (Performance Optimization)\", \"Mentored 4 new team members through knowledge-transfer sessions, enhancing team capabilities and fostering a collaborative work environment. (Team Leadership)\"]}, {\"role\": \"Frontend and Backend Engineer\", \"company\": \"Cimpress, Mumbai, India\", \"location\": \"Mumbai, India\", \"from\": \"Aug 2021\", \"to\": \"Jul 2023\", \"description\": [\"Developed React.js and Node.js applications, ensuring validation and performing unit testing in Mocha and Jest, resulting in bug-free software. (Application Development)\", \"Collaborated closely with developers from 6 squads, facilitating seamless software development, deployment, and version control processes. (Cross-team Collaboration)\", \"Improved code quality using SonarCloud and generated project documentation for 80% of major projects, ensuring code consistency and understandability. (Code Quality Assurance)\", \"Completed 100% of assigned projects and tickets, contributing significantly to a company-wide migration initiative, showcasing dedication and reliability. (Project Management)\"]}, {\"role\": \"Software Intern\", \"company\": \"Dial4242 Uber for Ambulances, Mumbai, India\", \"location\": \"Mumbai, India\", \"from\": \"Jun 2019\", \"to\": \"Oct 2019\", \"description\": [\"Enhanced client accessibility by 75% by implementing Google Assistant for requesting ambulances through the Dial4242 dashboard, improving user experience. (Client-First Approach)\", \"Collaborated with Actions on Google to gain insights into Google Assistant functionality, expanding knowledge in voice technology. (Technology Collaboration)\", \"Integrated 60% of the company\\'s API microservices and established a connection with the Firebase database, ensuring seamless data flow and system synchronization. (API Integration)\"]}]}'"
      ]
     },
     "execution_count": 27,
     "metadata": {},
     "output_type": "execute_result"
    }
   ],
   "source": [
    "resume_json_object = json.loads(resume_json)\n",
    "work_experience = json.dumps(resume_json_object['work_experience'])\n",
    "projects = json.dumps(resume_json_object['projects'])\n",
    "\n",
    "work_exp_prompt = df_prompts.loc[df_prompts['prompt_name'] == 'work_exp_prompt', 'prompt_text'].values[0]\n",
    "full_prompt_work = work_exp_prompt + \" \" + job_description + \" \" + work_experience\n",
    "\n",
    "work_exp_completion = client.chat.completions.create(\n",
    "    messages=[\n",
    "        {\"role\": \"system\", \"content\": \"This is a system message to initialize the model.\"},\n",
    "        {\"role\": \"user\", \"content\": full_prompt_work}\n",
    "    ],\n",
    "    model=\"gpt-3.5-turbo\",\n",
    ")\n",
    "work_exp = work_exp_completion.choices[0].message.content.strip()\n",
    "fn.clean_json(work_exp)"
   ]
  },
  {
   "cell_type": "code",
   "execution_count": null,
   "metadata": {},
   "outputs": [],
   "source": []
  }
 ],
 "metadata": {
  "kernelspec": {
   "display_name": "nlp_project",
   "language": "python",
   "name": "python3"
  },
  "language_info": {
   "codemirror_mode": {
    "name": "ipython",
    "version": 3
   },
   "file_extension": ".py",
   "mimetype": "text/x-python",
   "name": "python",
   "nbconvert_exporter": "python",
   "pygments_lexer": "ipython3",
   "version": "3.12.3"
  }
 },
 "nbformat": 4,
 "nbformat_minor": 2
}
